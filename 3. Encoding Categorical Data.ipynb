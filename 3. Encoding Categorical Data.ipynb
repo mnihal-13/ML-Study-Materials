{
 "cells": [
  {
   "cell_type": "markdown",
   "id": "5aaf2315",
   "metadata": {},
   "source": [
    "# What is Categorical Data?"
   ]
  },
  {
   "cell_type": "markdown",
   "id": "e603b2cc",
   "metadata": {},
   "source": [
    "Categorical variables are usually represented as ‘strings’ or ‘categories’ and are finite in number. Here are a few examples:\n",
    "1. The city where a person lives: Delhi, Mumbai, Ahmedabad, Bangalore, etc.\n",
    "2. The department a person works in: Finance, Human resources, IT, Production.\n",
    "3. The highest degree a person has: High school, Diploma, Bachelors, Masters, PhD.\n",
    "4. The grades of a student:  A+, A, B+, B, B- etc."
   ]
  },
  {
   "cell_type": "markdown",
   "id": "b17e1495",
   "metadata": {},
   "source": [
    "In the above examples, the variables only have definite possible values. Further, we can see there are two kinds of categorical data-\n",
    "\n",
    "* Ordinal Data: The categories have an inherent order\n",
    "* Nominal Data: The categories do not have an inherent order"
   ]
  },
  {
   "cell_type": "markdown",
   "id": "da3c749c",
   "metadata": {},
   "source": [
    "### One Hot Encoding Vs Label Encoding"
   ]
  },
  {
   "cell_type": "markdown",
   "id": "450f7d81",
   "metadata": {},
   "source": [
    "* For Nominal data we use One Hot Encoding\n",
    "* For Ordinal data we use Label Encoding"
   ]
  },
  {
   "cell_type": "markdown",
   "id": "21e4f136",
   "metadata": {},
   "source": [
    "### One Hot Encoding/Dummy Encoding"
   ]
  },
  {
   "cell_type": "markdown",
   "id": "43ab4d09",
   "metadata": {},
   "source": [
    "One-Hot Encoding is another popular technique for treating categorical variables. It simply creates additional features based on the number of unique values in the categorical feature. Every unique value in the category will be added as a feature."
   ]
  },
  {
   "cell_type": "code",
   "execution_count": null,
   "id": "22f23f59",
   "metadata": {},
   "outputs": [],
   "source": [
    "# We use a pandas function called \"get_dummies\" to create dummy variables \n",
    "\n",
    "new_df = pd.get_dummies(df, drop_first = True) # Drop first = True is used to avoid dummy variable trap"
   ]
  },
  {
   "cell_type": "markdown",
   "id": "97f26d42",
   "metadata": {},
   "source": [
    "### Label Encoding"
   ]
  },
  {
   "cell_type": "markdown",
   "id": "baad0b2c",
   "metadata": {},
   "source": [
    "Label Encoding is a popular encoding technique for handling categorical variables. In this technique, each label is assigned a unique integer based on alphabetical ordering."
   ]
  },
  {
   "cell_type": "code",
   "execution_count": null,
   "id": "6c9f3d90",
   "metadata": {},
   "outputs": [],
   "source": [
    "# We use Label encoding in sklearn library\n",
    "\n",
    "# Import label encoder\n",
    "from sklearn import preprocessing\n",
    " \n",
    "# label_encoder object knows how to understand word labels.\n",
    "label_encoder = preprocessing.LabelEncoder()\n",
    " \n",
    "# Encode labels in column 'species'.\n",
    "df['column_name']= label_encoder.fit_transform(df['column_name'])"
   ]
  },
  {
   "cell_type": "markdown",
   "id": "3f9ab0c2",
   "metadata": {},
   "source": [
    "***"
   ]
  }
 ],
 "metadata": {
  "kernelspec": {
   "display_name": "Python 3 (ipykernel)",
   "language": "python",
   "name": "python3"
  },
  "language_info": {
   "codemirror_mode": {
    "name": "ipython",
    "version": 3
   },
   "file_extension": ".py",
   "mimetype": "text/x-python",
   "name": "python",
   "nbconvert_exporter": "python",
   "pygments_lexer": "ipython3",
   "version": "3.11.7"
  }
 },
 "nbformat": 4,
 "nbformat_minor": 5
}
