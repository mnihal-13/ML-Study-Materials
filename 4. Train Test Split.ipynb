{
 "cells": [
  {
   "cell_type": "markdown",
   "id": "c6bcad52",
   "metadata": {},
   "source": [
    "# Train Test Split"
   ]
  },
  {
   "cell_type": "markdown",
   "id": "0b5e6226",
   "metadata": {},
   "source": [
    "***"
   ]
  },
  {
   "cell_type": "markdown",
   "id": "63bb80ca",
   "metadata": {},
   "source": [
    "The train test split technique can be used for classification and regression problems to test machine learning algorithms. The procedure takes the given dataset and splits it into two subsets: \n",
    "\n",
    "* Training dataset: it is used to train the algorithm and fit the machine learning model.\n",
    "* Test dataset: Using the input element from the training data, the algorithms make predictions.\n",
    "\n",
    "The model is first to fit on the available data with known inputs and outputs. t is then run to make predictions on the rest of the data subset to learn from it. This can be used to make predictions on future data sets where the expected input and output values are non-existent. "
   ]
  },
  {
   "cell_type": "markdown",
   "id": "70d4ceee",
   "metadata": {},
   "source": [
    "### Train Test Split using Sklearn library"
   ]
  },
  {
   "cell_type": "code",
   "execution_count": null,
   "id": "e084dcc7",
   "metadata": {},
   "outputs": [],
   "source": [
    "# Firstly split the columns into Input and Target Variables (X & y)\n",
    "\n",
    "X = df[['feature1','feature2','feature3']]\n",
    "y = df['target_column']"
   ]
  },
  {
   "cell_type": "code",
   "execution_count": null,
   "id": "0429edb3",
   "metadata": {},
   "outputs": [],
   "source": [
    "# Import train_test_split from sklearn model_selection\n",
    "\n",
    "from sklearn.model_selection import train_test_split\n",
    "\n",
    "# Assign X_train, X_test, y_train and y_test\n",
    "X_train, X_test, y_train, y_test = train_test_split(X, y, test_size = 0.3, random_state = 100)\n",
    "\n",
    "# test_size is used to specify the percent of dataset we want to use as our testing set (Here in this case it 0.3 or 30%)\n",
    "\n",
    "# the random_state parameter is used for initializing the internal random number generator, which will decide the splitting of\n",
    "# data into train and test indices in your case."
   ]
  },
  {
   "cell_type": "markdown",
   "id": "dc7ad94b",
   "metadata": {},
   "source": [
    "***"
   ]
  },
  {
   "cell_type": "markdown",
   "id": "fda84a82",
   "metadata": {},
   "source": [
   ]
  }
 ],
 "metadata": {
  "kernelspec": {
   "display_name": "Python 3 (ipykernel)",
   "language": "python",
   "name": "python3"
  },
  "language_info": {
   "codemirror_mode": {
    "name": "ipython",
    "version": 3
   },
   "file_extension": ".py",
   "mimetype": "text/x-python",
   "name": "python",
   "nbconvert_exporter": "python",
   "pygments_lexer": "ipython3",
   "version": "3.11.3"
  }
 },
 "nbformat": 4,
 "nbformat_minor": 5
}
