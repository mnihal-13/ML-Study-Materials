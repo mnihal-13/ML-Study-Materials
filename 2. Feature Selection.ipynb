{
 "cells": [
  {
   "cell_type": "markdown",
   "id": "29106dc4",
   "metadata": {},
   "source": []
  },
  {
   "cell_type": "markdown",
   "id": "c8bdc73e",
   "metadata": {},
   "source": [
    "# <span style = \"color:green\">Feature Selection</span>"
   ]
  },
  {
   "cell_type": "markdown",
   "id": "1923d48d",
   "metadata": {},
   "source": [
    "***"
   ]
  },
  {
   "cell_type": "markdown",
   "id": "6e906e0e",
   "metadata": {},
   "source": [
    "Feature selection is the process of reducing the number of input variables when developing a predictive model.\n",
    "\n",
    "It is desirable to reduce the number of input variables to both reduce the computational cost of modeling and, in some cases, to improve the performance of the model."
   ]
  },
  {
   "cell_type": "markdown",
   "id": "e912120b",
   "metadata": {},
   "source": [
    "###  Model Refinement Using RFE\n",
    "The goal of recursive feature elimination (RFE) is to select features by recursively considering smaller and smaller sets of features. First, the estimator is trained on the initial set of features and the importance of each feature is obtained either through a coef_ attribute or through a feature_importances_ attribute. Then, the less important features are pruned from the the current set of features. This procedure is recursively repeated on the pruned dataset until the desired number of features to select is reached."
   ]
  },
  {
   "cell_type": "markdown",
   "id": "6944eee7",
   "metadata": {},
   "source": [
    "Here, we will use RFE with the Logistic Regression classifier to select the top 3 features. The choice of algorithm does not matter too much as long as it is skillful and consistent."
   ]
  },
  {
   "cell_type": "code",
   "execution_count": null,
   "id": "9a94e559",
   "metadata": {},
   "outputs": [],
   "source": [
    "# Import your necessary dependencies\n",
    "from sklearn.feature_selection import RFE\n",
    "from sklearn.linear_model import LogisticRegression"
   ]
  },
  {
   "cell_type": "code",
   "execution_count": null,
   "id": "2486aaf1",
   "metadata": {},
   "outputs": [],
   "source": [
    "# Feature extraction\n",
    "model = LogisticRegression()\n",
    "rfe = RFE(model, 3)\n",
    "# X is the input and y is the target variable\n",
    "fit = rfe.fit(X, y)\n",
    "print(\"Num Features: %s\" % (fit.n_features_))\n",
    "print(\"Selected Features: %s\" % (fit.support_))\n",
    "print(\"Feature Ranking: %s\" % (fit.ranking_))"
   ]
  },
  {
   "cell_type": "markdown",
   "id": "dc334822",
   "metadata": {},
   "source": [
    "<b> OUTPUT</b>\n",
    "\n",
    "Num Features: 3\n",
    "\n",
    "Selected Features: [ True False False False False  True  True False]\n",
    "\n",
    "Feature Ranking: [1 2 3 5 6 1 1 4]"
   ]
  },
  {
   "cell_type": "markdown",
   "id": "654f73e0",
   "metadata": {},
   "source": [
    "***"
   ]
  },
  {
   "cell_type": "markdown",
   "id": "d4fc1409",
   "metadata": {},
   "source": [
    "# <center><span style = \"color:CornflowerBlue; font-family:Courier New;font-size:40px\">EDURE LEARNING</span></center>"
   ]
  }
 ],
 "metadata": {
  "kernelspec": {
   "display_name": "Python 3 (ipykernel)",
   "language": "python",
   "name": "python3"
  },
  "language_info": {
   "codemirror_mode": {
    "name": "ipython",
    "version": 3
   },
   "file_extension": ".py",
   "mimetype": "text/x-python",
   "name": "python",
   "nbconvert_exporter": "python",
   "pygments_lexer": "ipython3",
   "version": "3.11.3"
  }
 },
 "nbformat": 4,
 "nbformat_minor": 5
}
